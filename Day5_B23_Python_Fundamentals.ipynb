{
 "cells": [
  {
   "cell_type": "code",
   "execution_count": null,
   "metadata": {},
   "outputs": [],
   "source": [
    "introduction to looping staments:\n",
    "    working with for loops:"
   ]
  },
  {
   "cell_type": "code",
   "execution_count": null,
   "metadata": {},
   "outputs": [],
   "source": []
  },
  {
   "cell_type": "code",
   "execution_count": 6,
   "metadata": {},
   "outputs": [],
   "source": [
    "bank_customers = ['ram','ravi','kumar','suresh','ramesh','kamal','kanth','rajni','praveen','prasath' ]"
   ]
  },
  {
   "cell_type": "code",
   "execution_count": null,
   "metadata": {},
   "outputs": [],
   "source": [
    "#Req: to greet the customers on a New Year\n",
    "    \n",
    "    Wish you a Happy New Year"
   ]
  },
  {
   "cell_type": "code",
   "execution_count": 7,
   "metadata": {},
   "outputs": [
    {
     "name": "stdout",
     "output_type": "stream",
     "text": [
      "Wish you a Happy New Year, ram\n"
     ]
    }
   ],
   "source": [
    "print(f\"Wish you a Happy New Year, {bank_customers[0]}\")"
   ]
  },
  {
   "cell_type": "code",
   "execution_count": 9,
   "metadata": {},
   "outputs": [
    {
     "name": "stdout",
     "output_type": "stream",
     "text": [
      "Wish you a Happy New Year, ravi\n"
     ]
    }
   ],
   "source": [
    "print(f\"Wish you a Happy New Year, {bank_customers[1]}\")"
   ]
  },
  {
   "cell_type": "code",
   "execution_count": 10,
   "metadata": {},
   "outputs": [
    {
     "name": "stdout",
     "output_type": "stream",
     "text": [
      "Wish you a Happy New Year, ram\n",
      "Wish you a Happy New Year, ravi\n",
      "Wish you a Happy New Year, kumar\n",
      "Wish you a Happy New Year, suresh\n",
      "Wish you a Happy New Year, ramesh\n",
      "Wish you a Happy New Year, kamal\n",
      "Wish you a Happy New Year, kanth\n",
      "Wish you a Happy New Year, rajni\n",
      "Wish you a Happy New Year, praveen\n",
      "Wish you a Happy New Year, prasath\n"
     ]
    }
   ],
   "source": [
    "for customer in bank_customers:\n",
    "    print(f\"Wish you a Happy New Year, {customer}\")"
   ]
  },
  {
   "cell_type": "code",
   "execution_count": null,
   "metadata": {},
   "outputs": [],
   "source": [
    "#General Syntax of a for loop:\n",
    "for tempvar in mainvar: #indentation\n",
    "    print(tempvar)"
   ]
  },
  {
   "cell_type": "code",
   "execution_count": 11,
   "metadata": {},
   "outputs": [
    {
     "name": "stdout",
     "output_type": "stream",
     "text": [
      "Wish you a Happy New Year, ram\n",
      "Wish you a Happy New Year, ravi\n",
      "Wish you a Happy New Year, kumar\n",
      "Wish you a Happy New Year, suresh\n",
      "Wish you a Happy New Year, ramesh\n",
      "Wish you a Happy New Year, kamal\n",
      "Wish you a Happy New Year, kanth\n",
      "Wish you a Happy New Year, rajni\n",
      "Wish you a Happy New Year, praveen\n",
      "Wish you a Happy New Year, prasath\n"
     ]
    }
   ],
   "source": [
    "for x in bank_customers:\n",
    "    print(f\"Wish you a Happy New Year, {x}\")"
   ]
  },
  {
   "cell_type": "code",
   "execution_count": 12,
   "metadata": {},
   "outputs": [],
   "source": [
    "students = ['arun','siva','ramesh','selva','dinesh','hemanth','viswesh','kamesh']"
   ]
  },
  {
   "cell_type": "code",
   "execution_count": null,
   "metadata": {},
   "outputs": [],
   "source": [
    "#Req: to appreciate the students"
   ]
  },
  {
   "cell_type": "code",
   "execution_count": 15,
   "metadata": {},
   "outputs": [
    {
     "name": "stdout",
     "output_type": "stream",
     "text": [
      "Keep up the Good Work, arun\n",
      "Keep up the Good Work, siva\n",
      "Keep up the Good Work, ramesh\n",
      "Keep up the Good Work, selva\n",
      "Keep up the Good Work, dinesh\n",
      "Keep up the Good Work, hemanth\n",
      "Keep up the Good Work, viswesh\n",
      "Keep up the Good Work, kamesh\n"
     ]
    }
   ],
   "source": [
    "for x in students:\n",
    "    print(f\"Keep up the Good Work, {x}\")"
   ]
  },
  {
   "cell_type": "code",
   "execution_count": 17,
   "metadata": {},
   "outputs": [
    {
     "name": "stdout",
     "output_type": "stream",
     "text": [
      "Keep up the Good Work, Arun\n",
      "Keep up the Good Work, Siva\n",
      "Keep up the Good Work, Ramesh\n",
      "Keep up the Good Work, Selva\n",
      "Keep up the Good Work, Dinesh\n",
      "Keep up the Good Work, Hemanth\n",
      "Keep up the Good Work, Viswesh\n",
      "Keep up the Good Work, Kamesh\n"
     ]
    }
   ],
   "source": [
    "for x in students:\n",
    "    print(f\"Keep up the Good Work, {x.title()}\")"
   ]
  },
  {
   "cell_type": "code",
   "execution_count": null,
   "metadata": {},
   "outputs": [],
   "source": [
    "#Enhanced of the code.....!"
   ]
  },
  {
   "cell_type": "code",
   "execution_count": 20,
   "metadata": {},
   "outputs": [
    {
     "name": "stdout",
     "output_type": "stream",
     "text": [
      "Keep up the Good Work, Arun\n",
      "I will be looking forward to receive all your practice files today without Fail,  Arun\n",
      "Keep up the Good Work, Siva\n",
      "I will be looking forward to receive all your practice files today without Fail,  Siva\n",
      "Keep up the Good Work, Ramesh\n",
      "I will be looking forward to receive all your practice files today without Fail,  Ramesh\n",
      "Keep up the Good Work, Selva\n",
      "I will be looking forward to receive all your practice files today without Fail,  Selva\n",
      "Keep up the Good Work, Dinesh\n",
      "I will be looking forward to receive all your practice files today without Fail,  Dinesh\n",
      "Keep up the Good Work, Hemanth\n",
      "I will be looking forward to receive all your practice files today without Fail,  Hemanth\n",
      "Keep up the Good Work, Viswesh\n",
      "I will be looking forward to receive all your practice files today without Fail,  Viswesh\n",
      "Keep up the Good Work, Kamesh\n",
      "I will be looking forward to receive all your practice files today without Fail,  Kamesh\n"
     ]
    }
   ],
   "source": [
    "for x in students:\n",
    "    print(f\"Keep up the Good Work, {x.title()}\")\n",
    "    print(f\"I will be looking forward to receive all your practice files today without Fail,  {x.title()}\")"
   ]
  },
  {
   "cell_type": "code",
   "execution_count": null,
   "metadata": {},
   "outputs": [],
   "source": [
    "#improvisation of the Syntax"
   ]
  },
  {
   "cell_type": "code",
   "execution_count": 23,
   "metadata": {},
   "outputs": [
    {
     "name": "stdout",
     "output_type": "stream",
     "text": [
      "Keep up the Good Work, Arun\n",
      "I will be looking forward to receive all your practice files today without Fail,  Arun.\n",
      "\n",
      "Keep up the Good Work, Siva\n",
      "I will be looking forward to receive all your practice files today without Fail,  Siva.\n",
      "\n",
      "Keep up the Good Work, Ramesh\n",
      "I will be looking forward to receive all your practice files today without Fail,  Ramesh.\n",
      "\n",
      "Keep up the Good Work, Selva\n",
      "I will be looking forward to receive all your practice files today without Fail,  Selva.\n",
      "\n",
      "Keep up the Good Work, Dinesh\n",
      "I will be looking forward to receive all your practice files today without Fail,  Dinesh.\n",
      "\n",
      "Keep up the Good Work, Hemanth\n",
      "I will be looking forward to receive all your practice files today without Fail,  Hemanth.\n",
      "\n",
      "Keep up the Good Work, Viswesh\n",
      "I will be looking forward to receive all your practice files today without Fail,  Viswesh.\n",
      "\n",
      "Keep up the Good Work, Kamesh\n",
      "I will be looking forward to receive all your practice files today without Fail,  Kamesh.\n",
      "\n"
     ]
    }
   ],
   "source": [
    "for x in students:\n",
    "    print(f\"Keep up the Good Work, {x.title()}\")\n",
    "    print(f\"I will be looking forward to receive all your practice files today without Fail,  {x.title()}.\\n\")"
   ]
  },
  {
   "cell_type": "code",
   "execution_count": 24,
   "metadata": {},
   "outputs": [
    {
     "name": "stdout",
     "output_type": "stream",
     "text": [
      "Keep up the Good Work, Arun\n",
      "I will be looking forward to receive all your practice files today without Fail,  Arun.\n",
      "\n",
      "Keep up the Good Work, Siva\n",
      "I will be looking forward to receive all your practice files today without Fail,  Siva.\n",
      "\n",
      "Keep up the Good Work, Ramesh\n",
      "I will be looking forward to receive all your practice files today without Fail,  Ramesh.\n",
      "\n",
      "Keep up the Good Work, Selva\n",
      "I will be looking forward to receive all your practice files today without Fail,  Selva.\n",
      "\n",
      "Keep up the Good Work, Dinesh\n",
      "I will be looking forward to receive all your practice files today without Fail,  Dinesh.\n",
      "\n",
      "Keep up the Good Work, Hemanth\n",
      "I will be looking forward to receive all your practice files today without Fail,  Hemanth.\n",
      "\n",
      "Keep up the Good Work, Viswesh\n",
      "I will be looking forward to receive all your practice files today without Fail,  Viswesh.\n",
      "\n",
      "Keep up the Good Work, Kamesh\n",
      "I will be looking forward to receive all your practice files today without Fail,  Kamesh.\n",
      "\n",
      "Thankyou all for your Active participation\n"
     ]
    }
   ],
   "source": [
    "for x in students:\n",
    "    print(f\"Keep up the Good Work, {x.title()}\")\n",
    "    print(f\"I will be looking forward to receive all your practice files today without Fail,  {x.title()}.\\n\")\n",
    "    \n",
    "print(f\"Thankyou all for your Active participation\")"
   ]
  },
  {
   "cell_type": "code",
   "execution_count": null,
   "metadata": {},
   "outputs": [],
   "source": [
    "introduction to Zen of Python"
   ]
  },
  {
   "cell_type": "code",
   "execution_count": 25,
   "metadata": {},
   "outputs": [
    {
     "name": "stdout",
     "output_type": "stream",
     "text": [
      "The Zen of Python, by Tim Peters\n",
      "\n",
      "Beautiful is better than ugly.\n",
      "Explicit is better than implicit.\n",
      "Simple is better than complex.\n",
      "Complex is better than complicated.\n",
      "Flat is better than nested.\n",
      "Sparse is better than dense.\n",
      "Readability counts.\n",
      "Special cases aren't special enough to break the rules.\n",
      "Although practicality beats purity.\n",
      "Errors should never pass silently.\n",
      "Unless explicitly silenced.\n",
      "In the face of ambiguity, refuse the temptation to guess.\n",
      "There should be one-- and preferably only one --obvious way to do it.\n",
      "Although that way may not be obvious at first unless you're Dutch.\n",
      "Now is better than never.\n",
      "Although never is often better than *right* now.\n",
      "If the implementation is hard to explain, it's a bad idea.\n",
      "If the implementation is easy to explain, it may be a good idea.\n",
      "Namespaces are one honking great idea -- let's do more of those!\n"
     ]
    }
   ],
   "source": [
    "import this"
   ]
  },
  {
   "cell_type": "code",
   "execution_count": null,
   "metadata": {},
   "outputs": [],
   "source": [
    "#introduction to organsing the list:"
   ]
  },
  {
   "cell_type": "code",
   "execution_count": 27,
   "metadata": {},
   "outputs": [
    {
     "name": "stdout",
     "output_type": "stream",
     "text": [
      "['arun', 'siva', 'ramesh', 'selva', 'dinesh', 'hemanth', 'viswesh', 'kamesh']\n"
     ]
    }
   ],
   "source": [
    "print(students)"
   ]
  },
  {
   "cell_type": "code",
   "execution_count": null,
   "metadata": {},
   "outputs": [],
   "source": [
    "#2 possible way to orgnaise or sort the names in the list\n",
    "1) Temporary \n",
    "2) Permenant"
   ]
  },
  {
   "cell_type": "code",
   "execution_count": 30,
   "metadata": {},
   "outputs": [
    {
     "name": "stdout",
     "output_type": "stream",
     "text": [
      "['arun', 'dinesh', 'hemanth', 'kamesh', 'ramesh', 'selva', 'siva', 'viswesh']\n"
     ]
    }
   ],
   "source": [
    "print(sorted(students))"
   ]
  },
  {
   "cell_type": "code",
   "execution_count": 32,
   "metadata": {},
   "outputs": [
    {
     "name": "stdout",
     "output_type": "stream",
     "text": [
      "['arun', 'siva', 'ramesh', 'selva', 'dinesh', 'hemanth', 'viswesh', 'kamesh']\n"
     ]
    }
   ],
   "source": [
    "print(students)"
   ]
  },
  {
   "cell_type": "code",
   "execution_count": 33,
   "metadata": {},
   "outputs": [
    {
     "name": "stdout",
     "output_type": "stream",
     "text": [
      "['arun', 'dinesh', 'hemanth', 'kamesh', 'ramesh', 'selva', 'siva', 'viswesh']\n"
     ]
    }
   ],
   "source": [
    "students.sort()\n",
    "print(students)"
   ]
  },
  {
   "cell_type": "code",
   "execution_count": 34,
   "metadata": {},
   "outputs": [
    {
     "name": "stdout",
     "output_type": "stream",
     "text": [
      "['arun', 'dinesh', 'hemanth', 'kamesh', 'ramesh', 'selva', 'siva', 'viswesh']\n"
     ]
    }
   ],
   "source": [
    "print(students)"
   ]
  },
  {
   "cell_type": "code",
   "execution_count": null,
   "metadata": {},
   "outputs": [],
   "source": []
  },
  {
   "cell_type": "code",
   "execution_count": null,
   "metadata": {},
   "outputs": [],
   "source": []
  }
 ],
 "metadata": {
  "kernelspec": {
   "display_name": "Python 3",
   "language": "python",
   "name": "python3"
  },
  "language_info": {
   "codemirror_mode": {
    "name": "ipython",
    "version": 3
   },
   "file_extension": ".py",
   "mimetype": "text/x-python",
   "name": "python",
   "nbconvert_exporter": "python",
   "pygments_lexer": "ipython3",
   "version": "3.7.6"
  }
 },
 "nbformat": 4,
 "nbformat_minor": 4
}
